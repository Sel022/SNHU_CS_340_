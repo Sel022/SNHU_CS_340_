{
 "cells": [
  {
   "cell_type": "code",
   "execution_count": 13,
   "metadata": {},
   "outputs": [],
   "source": [
    "from script import AnimalShelter"
   ]
  },
  {
   "cell_type": "code",
   "execution_count": 14,
   "metadata": {},
   "outputs": [],
   "source": [
    "animals = AnimalShelter(username=\"aacuser\", password=\"aacuser\")"
   ]
  },
  {
   "cell_type": "code",
   "execution_count": 15,
   "metadata": {},
   "outputs": [
    {
     "name": "stdout",
     "output_type": "stream",
     "text": [
      "True\n"
     ]
    }
   ],
   "source": [
    "print(animals.create({\n",
    "    \"age_upon_outcome\": \"6 years\",\n",
    "    \"animal_id\": \"test\",\n",
    "    \"animal_type\": \"Dog\",\n",
    "    \"breed\": \"Labrador Retriever\",\n",
    "    \"color\": \"Black\",\n",
    "    \"date_of_birth\": \"2017-09-15\",\n",
    "    \"datetime\": \"2022-04-03 12:00:00\",\n",
    "    \"monthyear\": \"2022-04-03 12:00:00\",\n",
    "    \"name\": \"Binx\",\n",
    "    \"outcome_type\": \"Adoption\",\n",
    "    \"outcome_subtype\": \"Transfer\",\n",
    "    \"sex_upon_outcome\": \"Neutered Male\",\n",
    "    \"location_lat\": 15.2215,\n",
    "    \"location_long\": -80.300,\n",
    "    \"age_upon_outcome_in_weeks\": 15\n",
    "}))"
   ]
  },
  {
   "cell_type": "code",
   "execution_count": 16,
   "metadata": {},
   "outputs": [
    {
     "name": "stdout",
     "output_type": "stream",
     "text": [
      "{'age_upon_outcome': '6 years', 'animal_id': 'test', 'animal_type': 'Dog', 'breed': 'Labrador Retriever', 'color': 'Black', 'date_of_birth': '2017-09-15', 'datetime': '2022-04-03 12:00:00', 'monthyear': '2022-04-03 12:00:00', 'name': 'Binx', 'outcome_type': 'Adoption', 'outcome_subtype': 'Transfer', 'sex_upon_outcome': 'Neutered Male', 'location_lat': 15.2215, 'location_long': -80.3, 'age_upon_outcome_in_weeks': 15}\n"
     ]
    }
   ],
   "source": [
    "query = animals.read({\"name\": \"Binx\"})\n",
    "for animal in query:\n",
    "    print(animal)"
   ]
  },
  {
   "cell_type": "code",
   "execution_count": 19,
   "metadata": {},
   "outputs": [
    {
     "name": "stdout",
     "output_type": "stream",
     "text": [
      "documents must have only string keys, key was 0\n"
     ]
    }
   ],
   "source": [
    "print(animals.read({0:0}))"
   ]
  },
  {
   "cell_type": "code",
   "execution_count": 21,
   "metadata": {},
   "outputs": [
    {
     "name": "stdout",
     "output_type": "stream",
     "text": [
      "{'n': 1, 'nModified': 1, 'ok': 1.0, 'updatedExisting': True}\n"
     ]
    }
   ],
   "source": [
    "updateAnimal = animals.update({\"name\": \"Binx\"}, {\"outcome_type\": \"Adopted\"})\n",
    "print(updateAnimal)"
   ]
  },
  {
   "cell_type": "code",
   "execution_count": 22,
   "metadata": {},
   "outputs": [
    {
     "name": "stdout",
     "output_type": "stream",
     "text": [
      "{'age_upon_outcome': '6 years', 'animal_id': 'test', 'animal_type': 'Dog', 'breed': 'Labrador Retriever', 'color': 'Black', 'date_of_birth': '2017-09-15', 'datetime': '2022-04-03 12:00:00', 'monthyear': '2022-04-03 12:00:00', 'name': 'Binx', 'outcome_type': 'Adopted', 'outcome_subtype': 'Transfer', 'sex_upon_outcome': 'Neutered Male', 'location_lat': 15.2215, 'location_long': -80.3, 'age_upon_outcome_in_weeks': 15}\n"
     ]
    }
   ],
   "source": [
    "query = animals.read({\"name\": \"Binx\"})\n",
    "for animal in query:\n",
    "    print(animal)"
   ]
  },
  {
   "cell_type": "code",
   "execution_count": 23,
   "metadata": {},
   "outputs": [
    {
     "ename": "TypeError",
     "evalue": "AnimalShelter.update() missing 1 required positional argument: 'new_values'",
     "output_type": "error",
     "traceback": [
      "\u001b[0;31m---------------------------------------------------------------------------\u001b[0m",
      "\u001b[0;31mTypeError\u001b[0m                                 Traceback (most recent call last)",
      "Input \u001b[0;32mIn [23]\u001b[0m, in \u001b[0;36m<cell line: 1>\u001b[0;34m()\u001b[0m\n\u001b[0;32m----> 1\u001b[0m \u001b[38;5;28mprint\u001b[39m(\u001b[43manimals\u001b[49m\u001b[38;5;241;43m.\u001b[39;49m\u001b[43mupdate\u001b[49m\u001b[43m(\u001b[49m\u001b[43m{\u001b[49m\u001b[38;5;241;43m0\u001b[39;49m\u001b[43m:\u001b[49m\u001b[38;5;241;43m0\u001b[39;49m\u001b[43m}\u001b[49m\u001b[43m)\u001b[49m)\n",
      "\u001b[0;31mTypeError\u001b[0m: AnimalShelter.update() missing 1 required positional argument: 'new_values'"
     ]
    }
   ],
   "source": [
    "print(animals.update({0:0}))"
   ]
  },
  {
   "cell_type": "code",
   "execution_count": 24,
   "metadata": {},
   "outputs": [
    {
     "name": "stdout",
     "output_type": "stream",
     "text": [
      "{'n': 1, 'ok': 1.0}\n"
     ]
    }
   ],
   "source": [
    "deleteAnimal = animals.delete({\"name\": \"Binx\"})\n",
    "print(deleteAnimal)"
   ]
  },
  {
   "cell_type": "code",
   "execution_count": 25,
   "metadata": {},
   "outputs": [
    {
     "name": "stdout",
     "output_type": "stream",
     "text": [
      "(False, 'documents must have only string keys, key was 0')\n"
     ]
    }
   ],
   "source": [
    "print(animals.delete({0: 0}))"
   ]
  },
  {
   "cell_type": "code",
   "execution_count": null,
   "metadata": {},
   "outputs": [],
   "source": []
  }
 ],
 "metadata": {
  "kernelspec": {
   "display_name": "Python 3 (ipykernel)",
   "language": "python",
   "name": "python3"
  },
  "language_info": {
   "codemirror_mode": {
    "name": "ipython",
    "version": 3
   },
   "file_extension": ".py",
   "mimetype": "text/x-python",
   "name": "python",
   "nbconvert_exporter": "python",
   "pygments_lexer": "ipython3",
   "version": "3.10.4"
  }
 },
 "nbformat": 4,
 "nbformat_minor": 2
}
